{
  "nbformat": 4,
  "nbformat_minor": 0,
  "metadata": {
    "colab": {
      "provenance": []
    },
    "kernelspec": {
      "name": "python3",
      "display_name": "Python 3"
    },
    "language_info": {
      "name": "python"
    }
  },
  "cells": [
    {
      "cell_type": "code",
      "source": [
        "import cv2\n",
        "import os\n",
        "\n",
        "video_path = 'Bob Esponja _ O Estrangulador contra o Bob Esponja! _ Bob Esponja em Português.mp4'\n",
        "cap = cv2.VideoCapture(video_path)\n",
        "\n",
        "if not cap.isOpened():\n",
        "    print(\"Erro ao abrir o vídeo.\")\n",
        "    exit()\n",
        "\n",
        "output_folder = 'Bob'\n",
        "os.makedirs(output_folder, exist_ok=True)\n",
        "\n",
        "frame_count = 1\n",
        "\n",
        "frame_interval = 300\n",
        "\n",
        "while True:\n",
        "    ret, frame = cap.read()\n",
        "    if not ret:\n",
        "        break\n",
        "\n",
        "        if frame_count % frame_interval == 0:\n",
        "        frame_filename = os.path.join(output_folder, f'Bob_{frame_count:04d}.jpg')\n",
        "        cv2.imwrite(frame_filename, frame)\n",
        "\n",
        "    frame_count += 1\n",
        "\n",
        "cap.release()\n",
        "cv2.destroyAllWindows()\n",
        "\n",
        "print(f\"{frame_count} frames salvos em '{output_folder}' com intervalo de {frame_interval} frames.\")\n"
      ],
      "metadata": {
        "id": "hINoxmZZfUhC",
        "colab": {
          "base_uri": "https://localhost:8080/"
        },
        "outputId": "8593d871-9052-41f3-e6a1-e14b6990246c"
      },
      "execution_count": null,
      "outputs": [
        {
          "output_type": "stream",
          "name": "stdout",
          "text": [
            "7110 frames salvos em 'Bob' com intervalo de 210 frames.\n"
          ]
        }
      ]
    },
    {
      "cell_type": "code",
      "source": [
        "!pip install imagehash\n",
        "from PIL import Image\n",
        "import imagehash\n",
        "import os\n",
        "\n",
        "pasta_imagens = 'Bob'\n",
        "\n",
        "hashes = []\n",
        "\n",
        "imagens_semelhantes = {}\n",
        "\n",
        "def calcular_hash(imagem):\n",
        "    return str(imagehash.dhash(imagem))\n",
        "\n",
        "for arquivo in os.listdir(pasta_imagens):\n",
        "    if arquivo.endswith('.jpg'):\n",
        "        caminho_imagem = os.path.join(pasta_imagens, arquivo)\n",
        "        imagem = Image.open(caminho_imagem)\n",
        "        hash_imagem = calcular_hash(imagem)\n",
        "\n",
        "        if hash_imagem in hashes:\n",
        "            if hash_imagem not in imagens_semelhantes:\n",
        "                imagens_semelhantes[hash_imagem] = []\n",
        "            imagens_semelhantes[hash_imagem].append(caminho_imagem)\n",
        "        else:\n",
        "            hashes.append(hash_imagem)\n",
        "\n",
        "for hash, imagens in imagens_semelhantes.items():\n",
        "    if len(imagens) > 1:\n",
        "        imagem_a_manter = imagens[0]\n",
        "        for imagem_a_excluir in imagens[1:]:\n",
        "            os.remove(imagem_a_excluir)\n",
        "\n",
        "print(\"Imagens semelhantes foram removidas, deixando apenas uma de cada grupo.\")\n"
      ],
      "metadata": {
        "id": "NjGil2u283Bu",
        "colab": {
          "base_uri": "https://localhost:8080/"
        },
        "outputId": "c6cc0e02-dca6-4302-d2b9-441649bacf1a"
      },
      "execution_count": null,
      "outputs": [
        {
          "output_type": "stream",
          "name": "stdout",
          "text": [
            "Requirement already satisfied: imagehash in /usr/local/lib/python3.10/dist-packages (4.3.1)\n",
            "Requirement already satisfied: PyWavelets in /usr/local/lib/python3.10/dist-packages (from imagehash) (1.4.1)\n",
            "Requirement already satisfied: numpy in /usr/local/lib/python3.10/dist-packages (from imagehash) (1.23.5)\n",
            "Requirement already satisfied: pillow in /usr/local/lib/python3.10/dist-packages (from imagehash) (9.4.0)\n",
            "Requirement already satisfied: scipy in /usr/local/lib/python3.10/dist-packages (from imagehash) (1.11.2)\n",
            "Imagens semelhantes foram removidas, deixando apenas uma de cada grupo.\n"
          ]
        }
      ]
    },
    {
      "cell_type": "code",
      "source": [
        "!zip -r Bob.zip Bob"
      ],
      "metadata": {
        "id": "Yr2XjIlGo8Yp",
        "colab": {
          "base_uri": "https://localhost:8080/"
        },
        "outputId": "4667a063-2a75-47d1-ca7d-f54850fb6e23"
      },
      "execution_count": null,
      "outputs": [
        {
          "output_type": "stream",
          "name": "stdout",
          "text": [
            "  adding: Bob/ (stored 0%)\n",
            "  adding: Bob/Bob_0420.jpg (deflated 2%)\n",
            "  adding: Bob/Bob_5250.jpg (deflated 1%)\n",
            "  adding: Bob/Bob_3780.jpg (deflated 1%)\n",
            "  adding: Bob/Bob_3570.jpg (deflated 0%)\n",
            "  adding: Bob/Bob_2100.jpg (deflated 7%)\n",
            "  adding: Bob/Bob_4200.jpg (deflated 1%)\n",
            "  adding: Bob/Bob_5880.jpg (deflated 1%)\n",
            "  adding: Bob/Bob_4620.jpg (deflated 0%)\n",
            "  adding: Bob/Bob_6720.jpg (deflated 1%)\n",
            "  adding: Bob/Bob_3990.jpg (deflated 1%)\n",
            "  adding: Bob/Bob_3150.jpg (deflated 1%)\n",
            "  adding: Bob/Bob_1680.jpg (deflated 1%)\n",
            "  adding: Bob/Bob_2940.jpg (deflated 1%)\n",
            "  adding: Bob/Bob_6510.jpg (deflated 1%)\n",
            "  adding: Bob/Bob_0630.jpg (deflated 2%)\n",
            "  adding: Bob/Bob_1260.jpg (deflated 2%)\n",
            "  adding: Bob/Bob_6300.jpg (deflated 2%)\n",
            "  adding: Bob/Bob_0840.jpg (deflated 1%)\n",
            "  adding: Bob/Bob_1890.jpg (deflated 2%)\n",
            "  adding: Bob/Bob_2310.jpg (deflated 3%)\n",
            "  adding: Bob/Bob_2730.jpg (deflated 3%)\n",
            "  adding: Bob/Bob_6930.jpg (deflated 1%)\n",
            "  adding: Bob/Bob_6090.jpg (deflated 1%)\n",
            "  adding: Bob/Bob_4410.jpg (deflated 2%)\n",
            "  adding: Bob/Bob_5040.jpg (deflated 1%)\n",
            "  adding: Bob/Bob_5670.jpg (deflated 0%)\n",
            "  adding: Bob/Bob_3360.jpg (deflated 0%)\n",
            "  adding: Bob/Bob_1470.jpg (deflated 2%)\n",
            "  adding: Bob/Bob_1050.jpg (deflated 1%)\n",
            "  adding: Bob/Bob_4830.jpg (deflated 2%)\n",
            "  adding: Bob/Bob_2520.jpg (deflated 0%)\n",
            "  adding: Bob/Bob_0210.jpg (deflated 1%)\n",
            "  adding: Bob/Bob_5460.jpg (deflated 1%)\n"
          ]
        }
      ]
    },
    {
      "cell_type": "code",
      "source": [
        "from google.colab import files\n",
        "files.download('Bob.zip')\n"
      ],
      "metadata": {
        "id": "6tvyxz8to-5Q",
        "colab": {
          "base_uri": "https://localhost:8080/",
          "height": 34
        },
        "outputId": "b3d9c3e3-0ba8-47ed-ff58-fd95d71fbfed"
      },
      "execution_count": null,
      "outputs": [
        {
          "output_type": "display_data",
          "data": {
            "text/plain": [
              "<IPython.core.display.Javascript object>"
            ],
            "application/javascript": [
              "\n",
              "    async function download(id, filename, size) {\n",
              "      if (!google.colab.kernel.accessAllowed) {\n",
              "        return;\n",
              "      }\n",
              "      const div = document.createElement('div');\n",
              "      const label = document.createElement('label');\n",
              "      label.textContent = `Downloading \"${filename}\": `;\n",
              "      div.appendChild(label);\n",
              "      const progress = document.createElement('progress');\n",
              "      progress.max = size;\n",
              "      div.appendChild(progress);\n",
              "      document.body.appendChild(div);\n",
              "\n",
              "      const buffers = [];\n",
              "      let downloaded = 0;\n",
              "\n",
              "      const channel = await google.colab.kernel.comms.open(id);\n",
              "      // Send a message to notify the kernel that we're ready.\n",
              "      channel.send({})\n",
              "\n",
              "      for await (const message of channel.messages) {\n",
              "        // Send a message to notify the kernel that we're ready.\n",
              "        channel.send({})\n",
              "        if (message.buffers) {\n",
              "          for (const buffer of message.buffers) {\n",
              "            buffers.push(buffer);\n",
              "            downloaded += buffer.byteLength;\n",
              "            progress.value = downloaded;\n",
              "          }\n",
              "        }\n",
              "      }\n",
              "      const blob = new Blob(buffers, {type: 'application/binary'});\n",
              "      const a = document.createElement('a');\n",
              "      a.href = window.URL.createObjectURL(blob);\n",
              "      a.download = filename;\n",
              "      div.appendChild(a);\n",
              "      a.click();\n",
              "      div.remove();\n",
              "    }\n",
              "  "
            ]
          },
          "metadata": {}
        },
        {
          "output_type": "display_data",
          "data": {
            "text/plain": [
              "<IPython.core.display.Javascript object>"
            ],
            "application/javascript": [
              "download(\"download_1dca66e6-8cc9-4715-9e22-473abdce4fb9\", \"Bob.zip\", 6059134)"
            ]
          },
          "metadata": {}
        }
      ]
    },
    {
      "cell_type": "code",
      "source": [
        "import os\n",
        "\n",
        "pasta_a_limpar = 'Apenas_Um_Show'\n",
        "!rm -rf \"$pasta_a_limpar\"/*\n"
      ],
      "metadata": {
        "id": "Er_rQ_hQqqms"
      },
      "execution_count": null,
      "outputs": []
    }
  ]
}