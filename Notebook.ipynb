{
  "cells": [
    {
      "cell_type": "markdown",
      "metadata": {
        "id": "lQv8nA4BflLC"
      },
      "source": [
        "# Classificação de imagens de desenho animado"
      ]
    },
    {
      "cell_type": "code",
      "execution_count": 1,
      "metadata": {
        "id": "SHVZ6bzKflLI"
      },
      "outputs": [],
      "source": [
        "import cv2\n",
        "import numpy as np\n",
        "import os\n",
        "import pandas as pd\n",
        "import tensorflow as tf\n",
        "from sklearn.model_selection import KFold\n",
        "from sklearn.metrics import confusion_matrix"
      ]
    },
    {
      "cell_type": "markdown",
      "metadata": {
        "id": "lbiK_0EafuHO"
      },
      "source": [
        "Configurando as variáveis para trabalhar com o diretório Base_de_Dados"
      ]
    },
    {
      "cell_type": "code",
      "execution_count": 2,
      "metadata": {
        "id": "7MKIXRttflLL"
      },
      "outputs": [],
      "source": [
        "# Defina uma variável global para armazenar o modelo treinado\n",
        "global model\n",
        "model = None\n",
        "\n",
        "# Obtenha o diretório atual de trabalho\n",
        "script_dir = os.getcwd()\n",
        "\n",
        "# Define o diretório onde suas imagens estão localizadas\n",
        "data_dir = os.path.join(script_dir, 'Base_de_Dados')"
      ]
    },
    {
      "cell_type": "markdown",
      "metadata": {
        "id": "tfuszE0bfuB9"
      },
      "source": [
        "Preparando as imagens para serem usadas. (usando pré-processamento de imagens)"
      ]
    },
    {
      "cell_type": "code",
      "execution_count": 3,
      "metadata": {
        "id": "yvI5lJRRflLM"
      },
      "outputs": [],
      "source": [
        "def preprocess_image(img_path):\n",
        "    # Carregue a imagem original\n",
        "    imagem = cv2.imread(img_path)\n",
        "\n",
        "    # Verifique se a imagem foi carregada com sucesso\n",
        "    if imagem is None:\n",
        "        print(f\"Erro ao carregar a imagem: {img_path}\")\n",
        "        return None  # Retorne None para indicar que o processamento falhou\n",
        "\n",
        "    # Redimensionando a imagem\n",
        "    imagem_redimensionada = cv2.resize(imagem, (224, 224))\n",
        "\n",
        "    # Aumento de contraste\n",
        "    imagem_em_escala_de_cinza = cv2.cvtColor(imagem_redimensionada, cv2.COLOR_BGR2GRAY)\n",
        "\n",
        "    imagem_processada = imagem_em_escala_de_cinza / 255.0\n",
        "\n",
        "    # Retorne a imagem processada\n",
        "    return imagem_processada"
      ]
    },
    {
      "cell_type": "markdown",
      "metadata": {
        "id": "i0dLtio0golm"
      },
      "source": [
        " Preparação dos dados para treinamento e validação do modelo."
      ]
    },
    {
      "cell_type": "code",
      "execution_count": 4,
      "metadata": {
        "id": "TMdS7zVjflLN"
      },
      "outputs": [],
      "source": [
        "# Use ImageDataGenerator para carregar os dados\n",
        "datagen = tf.keras.preprocessing.image.ImageDataGenerator(rescale=1.0/255)  # Normalização\n",
        "\n",
        "# Carregue os dados em um array numpy\n",
        "image_data = []\n",
        "image_labels = []\n",
        "\n",
        "for subdir in os.listdir(data_dir):\n",
        "    sub_dir_path = os.path.join(data_dir, subdir)\n",
        "    if os.path.isdir(sub_dir_path):\n",
        "        for img_file in os.listdir(sub_dir_path):\n",
        "            img_path = os.path.join(sub_dir_path, img_file)\n",
        "            image_data.append(img_path)\n",
        "            image_labels.append(subdir)\n",
        "\n",
        "image_data = np.array(image_data)\n",
        "image_labels = np.array(image_labels)\n",
        "labels = np.unique(image_labels)\n",
        "\n",
        "# Defina o número de folds\n",
        "num_folds = 5\n",
        "kf = KFold(n_splits=num_folds, shuffle=True, random_state=42)\n",
        "\n",
        "# Variáveis para armazenar resultados\n",
        "all_train_histories = []\n",
        "all_val_histories = []\n",
        "confusion_matrices = []\n",
        "\n",
        "# Defina o valor de batch_size\n",
        "batch_size = 32  # Você pode ajustar esse valor conforme necessário"
      ]
    },
    {
      "cell_type": "markdown",
      "metadata": {
        "id": "gRWT8aEYhkGT"
      },
      "source": [
        " Treinando o modelo de classificação de imagens usando validação cruzada:"
      ]
    },
    {
      "cell_type": "code",
      "execution_count": 5,
      "metadata": {
        "id": "L6mtz_j-flLO"
      },
      "outputs": [],
      "source": [
        "def treino(nome_do_modelo):\n",
        "    global model  # Use a variável global\n",
        "\n",
        "    # Variável para armazenar informações de cada fold\n",
        "    fold_info = []\n",
        "\n",
        "    # Loop através dos folds\n",
        "    for i, (train_index, val_index) in enumerate(kf.split(image_data), 1):\n",
        "        train_data = image_data[train_index]\n",
        "        train_labels = image_labels[train_index]\n",
        "        val_data = image_data[val_index]\n",
        "        val_labels = image_labels[val_index]\n",
        "\n",
        "        # Pré-processar as imagens de treinamento e validação\n",
        "        train_data_processed = [preprocess_image(img_path) for img_path in train_data]\n",
        "        val_data_processed = [preprocess_image(img_path) for img_path in val_data]\n",
        "\n",
        "        # Remova entradas None (imagens que não puderam ser carregadas)\n",
        "        train_data_processed = [img for img in train_data_processed if img is not None]\n",
        "        val_data_processed = [img for img in val_data_processed if img is not None]\n",
        "\n",
        "        # Converter as imagens em listas de matrizes 1D\n",
        "        train_data_processed = [img.flatten() for img in train_data_processed]\n",
        "        val_data_processed = [img.flatten() for img in val_data_processed]\n",
        "\n",
        "        # Converta as listas em arrays numpy\n",
        "        train_data_processed = np.array(train_data_processed)\n",
        "        val_data_processed = np.array(val_data_processed)\n",
        "\n",
        "        train_df = pd.DataFrame({'filename': train_data, 'class': train_labels})\n",
        "        val_df = pd.DataFrame({'filename': val_data, 'class': val_labels})\n",
        "\n",
        "        train_generator = datagen.flow_from_dataframe(\n",
        "            dataframe=train_df,\n",
        "            x_col='filename',\n",
        "            y_col='class',\n",
        "            target_size=(224, 224),\n",
        "            batch_size=batch_size,\n",
        "            class_mode='categorical',\n",
        "            shuffle=True\n",
        "        )\n",
        "\n",
        "        val_generator = datagen.flow_from_dataframe(\n",
        "            dataframe=val_df,\n",
        "            x_col='filename',\n",
        "            y_col='class',\n",
        "            target_size=(224, 224),\n",
        "            batch_size=batch_size,\n",
        "            class_mode='categorical',\n",
        "            shuffle=False\n",
        "        )\n",
        "\n",
        "        num_classes = len(np.unique(train_labels))\n",
        "\n",
        "        # Crie e compile o modelo\n",
        "        model = tf.keras.models.Sequential()\n",
        "\n",
        "        ## Onde ocorre as mudanças em relação ao algoritmo padrão e o aprimorado\n",
        "\n",
        "        # Camadas convolucionais e de pooling\n",
        "        model.add(tf.keras.layers.Conv2D(64, (3, 3), activation='relu', input_shape=(224, 224, 3)))\n",
        "        model.add(tf.keras.layers.MaxPooling2D((2, 2)))\n",
        "        model.add(tf.keras.layers.Conv2D(128, (3, 3), activation='relu'))\n",
        "        model.add(tf.keras.layers.MaxPooling2D((2, 2)))\n",
        "        model.add(tf.keras.layers.Conv2D(256, (3, 3), activation='relu'))\n",
        "        model.add(tf.keras.layers.MaxPooling2D((2, 2)))\n",
        "        # Flatten para camadas densas\n",
        "        model.add(tf.keras.layers.Flatten())\n",
        "        # Camadas densas\n",
        "        model.add(tf.keras.layers.Dense(512, activation='relu'))\n",
        "        model.add(tf.keras.layers.Dropout(0.5))  # Dropout para reduzir o overfitting\n",
        "        model.add(tf.keras.layers.Dense(512, activation='relu'))\n",
        "        model.add(tf.keras.layers.Dropout(0.5))  # Dropout para reduzir o overfitting\n",
        "        # Camada de saída\n",
        "        model.add(tf.keras.layers.Dense(num_classes, activation='softmax'))\n",
        "\n",
        "        ## Fim das diferenças\n",
        "\n",
        "        # Compile o modelo\n",
        "        model.compile(optimizer='rmsprop',\n",
        "                    loss=tf.keras.losses.CategoricalCrossentropy(from_logits=False),\n",
        "                    metrics=['accuracy'])\n",
        "\n",
        "        # Treine o modelo por 5 época (ou o número de épocas desejado)\n",
        "        history = model.fit(train_generator, epochs=5, validation_data=val_generator)\n",
        "\n",
        "        # Avalie o modelo no conjunto de teste (val_generator)\n",
        "        y_true = val_generator.classes  # Rótulos reais\n",
        "        y_pred_probs = model.predict(val_generator)  # Probabilidades das previsões\n",
        "        y_pred = np.argmax(y_pred_probs, axis=1)  # Rótulos previstos\n",
        "\n",
        "        # Calcule a matriz de confusão\n",
        "        cm = confusion_matrix(y_true, y_pred)\n",
        "\n",
        "        # Calcula a precisão para cada classe\n",
        "        num_classes = cm.shape[0]\n",
        "        precisao_por_classe = []\n",
        "        for classe in range(num_classes):\n",
        "            TP = cm[classe, classe]  # Verdadeiros Positivos\n",
        "            FP = np.sum(cm[:, classe]) - TP  # Falsos Positivos\n",
        "            precision = TP / (TP + FP)\n",
        "            precisao_por_classe.append(precision)\n",
        "\n",
        "        # Armazena informações do fold em fold_info\n",
        "        fold_info.append({\n",
        "            'Fold': i,\n",
        "            'Loss': history.history['loss'],\n",
        "            'Accuracy': history.history['accuracy'],\n",
        "            'Validation Loss': history.history['val_loss'],\n",
        "            'Validation Accuracy': history.history['val_accuracy'],\n",
        "            'Confusion Matrix': cm,\n",
        "            'Precision per Class': precisao_por_classe\n",
        "        })\n",
        "\n",
        "    # Salve o modelo treinado com o nome especificado\n",
        "    model.save(nome_do_modelo)\n",
        "\n",
        "    # Retorne o modelo e as informações de cada fold\n",
        "    return model, fold_info\n"
      ]
    },
    {
      "cell_type": "markdown",
      "metadata": {
        "id": "VODf7S77flLQ"
      },
      "source": [
        "**Camadas usadas no algoritmo padrão**\n",
        "\n",
        "-  Camada convolucional e de pooling  \n",
        "model.add(tf.keras.layers.Conv2D(32, (3, 3), activation='relu', input_shape=(224, 224, 3)))  \n",
        "model.add(tf.keras.layers.MaxPooling2D((2, 2)))  \n",
        "model.add(tf.keras.layers.Conv2D(64, (3, 3), activation='relu'))  \n",
        "model.add(tf.keras.layersMaxPooling2D((2, 2)))  \n",
        "model.add(tf.keras.layers.Conv2D(64, (3, 3), activation='relu'))  \n",
        "\n",
        "- Flatten para camadas densas  \n",
        "model.add(tf.keras.layers.Flatten())  \n",
        "\n",
        "- Camada densa  \n",
        "model.add(tf.keras.layers.Dense(64, activation='relu'))  \n",
        "\n",
        "- Camada de saída  \n",
        "model.add(tf.keras.layers.Dense(num_classes, activation='softmax'))  \n"
      ]
    },
    {
      "cell_type": "markdown",
      "metadata": {
        "id": "ezdj4ABZflLR"
      },
      "source": [
        "**Camadas usadas no algoritmo aprimorado**\n",
        "\n",
        "- Camadas convolucionais e de pooling   \n",
        "model.add(tf.keras.layers.Conv2D(64, (3, 3), activation='relu', input_shape=(224, 224, 3)))  \n",
        "model.add(tf.keras.layers.MaxPooling2D((2, 2)))  \n",
        "model.add(tf.keras.layers.Conv2D(128, (3, 3), activation='relu'))  \n",
        "model.add(tf.keras.layers.MaxPooling2D((2, 2)))  \n",
        "model.add(tf.keras.layers.Conv2D(256, (3, 3), activation='relu'))  \n",
        "model.add(tf.keras.layers.MaxPooling2D((2, 2)))\n",
        "\n",
        "- Flatten para camadas densas    \n",
        "model.add(tf.keras.layers.Flatten())\n",
        "\n",
        "- Camadas densas  \n",
        "model.add(tf.keras.layers.Dense(512, activation='relu'))  \n",
        "model.add(tf.keras.layers.Dropout(0.5))  # Dropout para reduzir o overfitting  \n",
        "model.add(tf.keras.layers.Dense(512, activation='relu'))  \n",
        "model.add(tf.keras.layers.Dropout(0.5))  # Dropout para reduzir o overfitting\n",
        "\n",
        "- Camada de saída  \n",
        "model.add(tf.keras.layers.Dense(num_classes, activation='softmax'))  "
      ]
    },
    {
      "cell_type": "markdown",
      "metadata": {
        "id": "XDY7Ekvjh_yA"
      },
      "source": [
        "Calculando a matriz de confusão geral e a precisão por classe com base nas matrizes de confusão:"
      ]
    },
    {
      "cell_type": "code",
      "execution_count": 6,
      "metadata": {
        "id": "Yw3lvk9bflLS"
      },
      "outputs": [],
      "source": [
        "def calcular_matriz_confusao_e_precisao(model, nome_do_modelo, labels, confusion_matrices):\n",
        "    # Crie a matriz de confusão geral\n",
        "    overall_confusion_matrix = np.sum(confusion_matrices, axis=0)\n",
        "\n",
        "    # Calcula a precisão para cada classe\n",
        "    num_classes = overall_confusion_matrix.shape[0]\n",
        "    precisao_por_classe = []\n",
        "\n",
        "    for classe in range(num_classes):\n",
        "        TP = overall_confusion_matrix[classe, classe]  # Verdadeiros Positivos\n",
        "        FP = np.sum(overall_confusion_matrix[:, classe]) - TP  # Falsos Positivos\n",
        "        precision = TP / (TP + FP)\n",
        "        precisao_por_classe.append(precision)\n",
        "\n",
        "    return {\n",
        "        'Matriz de Confusão Geral': overall_confusion_matrix,\n",
        "        'Precisão por Classe': precisao_por_classe\n",
        "    }"
      ]
    },
    {
      "cell_type": "markdown",
      "metadata": {
        "id": "oTznuEXCiH-U"
      },
      "source": [
        "Exibe as informações sobre o treinamento e validação de um modelo de classificação ao longo dos diferentes folds da validação cruzada.  \n",
        "    Monitorar e analisa o desempenho de um modelo de classificação"
      ]
    },
    {
      "cell_type": "code",
      "execution_count": 7,
      "metadata": {
        "id": "kPqjJagOflLT"
      },
      "outputs": [],
      "source": [
        "# Função para exibir informações de cada fold\n",
        "def exibir_informacoes_fold(fold_info, labels):\n",
        "\n",
        "    if (fold_info == []):\n",
        "        print(\"Não possui os dados do treinamento e validação do modelo\")\n",
        "        return None\n",
        "\n",
        "    all_accuracy = []\n",
        "    all_val_accuracy = []\n",
        "    all_precision = []\n",
        "    all_confusion_matrices = []\n",
        "\n",
        "    for fold_data in fold_info:\n",
        "        fold = fold_data['Fold']\n",
        "        loss = fold_data['Loss']\n",
        "        accuracy = fold_data['Accuracy']\n",
        "        val_loss = fold_data['Validation Loss']\n",
        "        val_accuracy = fold_data['Validation Accuracy']\n",
        "        confusion_matrix_fold = fold_data['Confusion Matrix']\n",
        "        precisao_por_classe_fold = fold_data['Precision per Class']\n",
        "\n",
        "        print(f'Fold {fold}:')\n",
        "        print(f'Loss: {loss}')\n",
        "        print(f'Accuracy: {accuracy}')\n",
        "        print(f'Validation Loss: {val_loss}')\n",
        "        print(f'Validation Accuracy: {val_accuracy}')\n",
        "\n",
        "        print(\"Matriz de Confusão:\")\n",
        "        print(confusion_matrix_fold)\n",
        "\n",
        "        print(\"\\nPrecisão por Classe:\")\n",
        "        for classe, precision in enumerate(precisao_por_classe_fold):\n",
        "            classe_nome = labels[classe]\n",
        "            print(f\"Classe '{classe_nome}': Precisão = '{precision:.4f}'\")\n",
        "\n",
        "        all_accuracy.append(accuracy[-1])\n",
        "        all_val_accuracy.append(val_accuracy[-1])\n",
        "        all_precision.append(precisao_por_classe_fold)\n",
        "        all_confusion_matrices.append(confusion_matrix_fold)\n",
        "\n",
        "    num_folds = len(fold_info)\n",
        "\n",
        "    # Calcular médias\n",
        "    average_accuracy = np.mean(all_accuracy)\n",
        "    average_val_accuracy = np.mean(all_val_accuracy)\n",
        "    average_precision = np.mean(all_precision, axis=0)\n",
        "\n",
        "    print(f'\\nAcurácia Média entre os {num_folds} folds: {average_accuracy:.4f}')\n",
        "    print(f'Acurácia de Validação Média entre os {num_folds} folds: {average_val_accuracy:.4f}')\n",
        "\n",
        "    # Calcular a matriz de confusão geral (somatório das matrizes dos folds)\n",
        "    confusion_matrix_general = np.sum(all_confusion_matrices, axis=0)\n",
        "\n",
        "    print(\"\\nMatriz de Confusão Geral (Somatório das Matrizes dos Folds):\")\n",
        "    print(confusion_matrix_general)\n",
        "\n",
        "    print(\"\\nPrecisão Média por Classe:\")\n",
        "    for classe, precision in enumerate(average_precision):\n",
        "        classe_nome = labels[classe]\n",
        "        print(f\"Classe '{classe_nome}': Precisão Média = '{precision:.4f}'\")\n"
      ]
    },
    {
      "cell_type": "markdown",
      "metadata": {
        "id": "mdJ5MV83inf1"
      },
      "source": [
        "Carrega um modelo previamente treinado se ele já existir ou treinar um novo modelo se ele não existe."
      ]
    },
    {
      "cell_type": "code",
      "execution_count": 8,
      "metadata": {
        "id": "fjfbSTthflLU"
      },
      "outputs": [],
      "source": [
        "def carregar_ou_treinar_modelo(nome_do_modelo):\n",
        "\n",
        "    # Obtenha o caminho do diretório atual\n",
        "    diretorio_atual = os.getcwd()\n",
        "\n",
        "    # Inicialize fold_info como uma lista vazia\n",
        "    fold_info = []\n",
        "\n",
        "    # Verifique se o modelo já existe\n",
        "    if os.path.exists(nome_do_modelo):\n",
        "        # Se o modelo existir, carregue-o\n",
        "        model = tf.keras.models.load_model(nome_do_modelo)\n",
        "\n",
        "    else:\n",
        "        # Se o modelo não existir, treine-o\n",
        "        model, fold_info = treino(nome_do_modelo)\n",
        "\n",
        "    return model, fold_info"
      ]
    },
    {
      "cell_type": "markdown",
      "metadata": {
        "id": "OF-lHeg2jin4"
      },
      "source": [
        "Pré-processa uma imagem de forma que possa ser usada para fazer previsões com um modelo treinado."
      ]
    },
    {
      "cell_type": "code",
      "execution_count": 9,
      "metadata": {
        "id": "ZTDmQ8n3flLV"
      },
      "outputs": [],
      "source": [
        "def preprocess_image_for_prediction(img_path):\n",
        "    # Carregue a imagem original\n",
        "    imagem_processada = preprocess_image(img_path)\n",
        "\n",
        "    # Expanda as dimensões para corresponder à forma esperada do modelo (1, 224, 224, 3)\n",
        "    imagem_processada = np.expand_dims(imagem_processada, axis=0)\n",
        "    imagem_processada = np.stack((imagem_processada,) * 3, axis=-1)  # Replica o canal em todos os três canais\n",
        "    imagem_processada = np.expand_dims(imagem_processada, axis=-1)\n",
        "\n",
        "    return imagem_processada"
      ]
    },
    {
      "cell_type": "markdown",
      "metadata": {
        "id": "gQTAOPYmka5V"
      },
      "source": [
        " Faz a classificação de uma imagem usando um modelo de aprendizado de máquina pré-treinado (ou treinado na hora)."
      ]
    },
    {
      "cell_type": "code",
      "execution_count": 10,
      "metadata": {
        "id": "ye6mFSgIflLW"
      },
      "outputs": [],
      "source": [
        "# Função para fazer a classificação da imagem\n",
        "def classificar_imagem(imagem_path, nome_do_modelo):\n",
        "    model, _ = carregar_ou_treinar_modelo(nome_do_modelo)  # Carrega ou treina o modelo\n",
        "    # Pré-processamento da imagem\n",
        "    imagem_processada = preprocess_image_for_prediction(imagem_path)\n",
        "\n",
        "    if imagem_processada is None:\n",
        "        return \"Falha no pré-processamento\", None\n",
        "\n",
        "    # Faça a previsão usando o modelo\n",
        "    previsao = model.predict(imagem_processada)\n",
        "\n",
        "    # Obtenha a classe prevista com a maior probabilidade\n",
        "    classe_prevista = np.argmax(previsao)\n",
        "\n",
        "    # Imprima as classes previstas e suas probabilidades\n",
        "    print(f\"\\n\\nResultado da classificação para a imagem: {imagem_path} usando o modelo: {nome_do_modelo}\")\n",
        "    print(\"\\nClassificação das 3 classes mais prováveis:\")\n",
        "    top_classes_indices = np.argsort(previsao[0])[::-1][:3]\n",
        "    top_classes_names = [labels[i] for i in top_classes_indices]\n",
        "    top_classes_probs = [previsao[0][i] for i in top_classes_indices]\n",
        "    for i, (classe, probabilidade) in enumerate(zip(top_classes_names, top_classes_probs), 1):\n",
        "        print(f\"{i}. Classe: {classe}, Probabilidade: {probabilidade:.4f}\")\n",
        "\n",
        "    # Imprima todas as classes e suas probabilidades\n",
        "    print(\"\\nProbabilidades para todas as classes:\")\n",
        "    for i, (classe, probabilidade) in enumerate(zip(labels, previsao[0]), 1):\n",
        "        print(f\"{classe}, Probabilidade: {probabilidade:.4f}\")\n",
        "\n",
        "    return labels[classe_prevista], previsao[0][classe_prevista]"
      ]
    },
    {
      "cell_type": "code",
      "execution_count": 11,
      "metadata": {
        "id": "CkUtb5uHflLX"
      },
      "outputs": [],
      "source": [
        "# Especifique o nome do modelo desejado\n",
        "nome_do_modelo = 'mudando_camadas5.keras'\n",
        "\n",
        "# Carregue ou treine o modelo e obtenha as informações/estatísticas do fold\n",
        "model, fold_info = carregar_ou_treinar_modelo(nome_do_modelo)"
      ]
    },
    {
      "cell_type": "code",
      "execution_count": 12,
      "metadata": {
        "id": "jVSkMM4vflLY",
        "outputId": "e5274820-5797-4763-e10a-a687dccdc6a9"
      },
      "outputs": [
        {
          "name": "stdout",
          "output_type": "stream",
          "text": [
            "1/1 [==============================] - 23s 23s/step\n",
            "\n",
            "\n",
            "Resultado da classificação para a imagem: e:\\zzzzzanime\\frame_12210.jpg usando o modelo: mudando_camadas5.keras\n",
            "\n",
            "Classificação das 3 classes mais prováveis:\n",
            "1. Classe: Padrinhos_Magicos, Probabilidade: 1.0000\n",
            "2. Classe: Pica_Pau, Probabilidade: 0.0000\n",
            "3. Classe: Apenas_Um_Show, Probabilidade: 0.0000\n",
            "\n",
            "Probabilidades para todas as classes:\n",
            "Apenas_Um_Show, Probabilidade: 0.0000\n",
            "Bob_Esponja, Probabilidade: 0.0000\n",
            "Bungo_Stray_Dogs, Probabilidade: 0.0000\n",
            "Kick_Buttowski, Probabilidade: 0.0000\n",
            "Looney_Tunes, Probabilidade: 0.0000\n",
            "Madeline, Probabilidade: 0.0000\n",
            "Padrinhos_Magicos, Probabilidade: 1.0000\n",
            "Pica_Pau, Probabilidade: 0.0000\n",
            "O nome da classe prevista é: ('Padrinhos_Magicos', 1.0)\n",
            "\n"
          ]
        }
      ],
      "source": [
        "script_dir = os.getcwd()\n",
        "imagem_path = os.path.join(script_dir, 'frame_12210.jpg')\n",
        "\n",
        "# Realize a classificação da imagem com o modelo já carregado\n",
        "classe_prevista = classificar_imagem(imagem_path, nome_do_modelo)\n",
        "print(f'O nome da classe prevista é: {classe_prevista}\\n')"
      ]
    },
    {
      "cell_type": "code",
      "execution_count": 13,
      "metadata": {
        "id": "sKnkVnozflLa",
        "outputId": "32c0f660-6fd4-4cf2-b379-69c29afe39e4"
      },
      "outputs": [
        {
          "name": "stdout",
          "output_type": "stream",
          "text": [
            "Não possui os dados do treinamento e validação do modelo\n"
          ]
        }
      ],
      "source": [
        "# Exiba as informações/estatísticas do fold\n",
        "exibir_informacoes_fold(fold_info, labels)"
      ]
    },
    {
      "cell_type": "markdown",
      "metadata": {
        "id": "jHzHMJDmflLb"
      },
      "source": [
        "# Testes estatísticos"
      ]
    },
    {
      "cell_type": "code",
      "execution_count": 14,
      "metadata": {
        "id": "Wh-zttYeflLb"
      },
      "outputs": [],
      "source": [
        "import matplotlib.pyplot as plt\n",
        "from scipy import stats"
      ]
    },
    {
      "cell_type": "markdown",
      "metadata": {
        "id": "3zEa4chEflLc"
      },
      "source": [
        "Função para exibir o histograma dos dados\n",
        "\n",
        "    Serão passados os dados da acurácia de validação final de cada fold, foram pegos um total de 25 dados de acurácia para cada algoritmo analisado.\n",
        "\n"
      ]
    },
    {
      "cell_type": "code",
      "execution_count": 15,
      "metadata": {
        "id": "DG0aYIsvflLc"
      },
      "outputs": [],
      "source": [
        "def plot_histogram(valores, bins=10, xlim=None, ylim=None):\n",
        "    # Crie o histograma\n",
        "    plt.hist(valores, bins=bins, edgecolor='k', alpha=0.75)\n",
        "\n",
        "    # Defina os limites dos eixos X e Y, se fornecidos\n",
        "    if xlim is not None:\n",
        "        plt.xlim(xlim)\n",
        "    if ylim is not None:\n",
        "        plt.ylim(ylim)\n",
        "\n",
        "    # Adicione rótulos e título\n",
        "    plt.xlabel('Valores')\n",
        "    plt.ylabel('Frequência')\n",
        "    plt.title('Histograma')\n",
        "\n",
        "    # Exiba o gráfico\n",
        "    plt.show()"
      ]
    },
    {
      "cell_type": "markdown",
      "metadata": {
        "id": "CREWgxoBflLc"
      },
      "source": [
        "Função para verificar se os dados passados tem uma distribuição normal\n",
        "\n",
        "    Será usado o teste de Shapiro"
      ]
    },
    {
      "cell_type": "code",
      "execution_count": 16,
      "metadata": {
        "id": "JI7m4C1eflLd"
      },
      "outputs": [],
      "source": [
        "def teste_normalidade(sample):\n",
        "    # Aplicando o teste de Shapiro-Wilk\n",
        "    statistic, p_value = stats.shapiro(sample)\n",
        "\n",
        "    # Verificando o resultado\n",
        "    if p_value > 0.05:\n",
        "        print(\"A amostra parece ser normal.\")\n",
        "    else:\n",
        "        print(\"A amostra não parece ser normal.\")\n",
        "\n",
        "    plot_histogram(sample, xlim=(0.5, 1.0))"
      ]
    },
    {
      "cell_type": "markdown",
      "metadata": {
        "id": "Th7DsTSDflLd"
      },
      "source": [
        "Passando os dados obtidos da validação de acurácia do algoritmo **\"padrão\"** e realizando o teste de normalidade"
      ]
    },
    {
      "cell_type": "code",
      "execution_count": 17,
      "metadata": {
        "id": "otE50_s-flLe",
        "outputId": "113350a6-8859-4b00-8073-e55da1e94c39"
      },
      "outputs": [
        {
          "name": "stdout",
          "output_type": "stream",
          "text": [
            "A amostra não parece ser normal.\n"
          ]
        },
        {
          "data": {
            "image/png": "[encoded data removed]",
            "text/plain": [
              "<Figure size 640x480 with 1 Axes>"
            ]
          },
          "metadata": {},
          "output_type": "display_data"
        }
      ],
      "source": [
        "padrao = [\n",
        "    0.7685112953186035, 0.8074824810028076, 0.8129384517669678, 0.7755261063575745, 0.8285269141197205,\n",
        "    0.8082618713378906, 0.7466874718666077, 0.7575993537902832, 0.8082618713378906, 0.8067030310630798,\n",
        "    0.7747467160224915, 0.7887762784957886, 0.7950116991996765, 0.7427903413772583, 0.784879207611084,\n",
        "    0.7973499894142151, 0.8012470602989197, 0.5526110529899597, 0.7084957361221313, 0.8285269141197205,\n",
        "    0.8191738128662109, 0.8098207116127014, 0.7560405135154724, 0.8152766823768616, 0.7817614674568176\n",
        "]\n",
        "\n",
        "teste_normalidade(padrao)"
      ]
    },
    {
      "cell_type": "markdown",
      "metadata": {
        "id": "S9fAKrQOflLe"
      },
      "source": [
        "Passando os dados obtidos da validação de acurácia do algoritmo **\"aprimorado\"** e realizando o teste de normalidade"
      ]
    },
    {
      "cell_type": "code",
      "execution_count": 18,
      "metadata": {
        "id": "RmTW43KwflLf",
        "outputId": "142c9afd-8cf4-4f63-d2f4-2295db3c592f"
      },
      "outputs": [
        {
          "name": "stdout",
          "output_type": "stream",
          "text": [
            "A amostra não parece ser normal.\n"
          ]
        },
        {
          "data": {
            "image/png": "[encoded data removed]",
            "text/plain": [
              "<Figure size 640x480 with 1 Axes>"
            ]
          },
          "metadata": {},
          "output_type": "display_data"
        }
      ],
      "source": [
        "aprimorado = [\n",
        "    0.8409976363182068, 0.8472330570220947, 0.8409976363182068, 0.7653936147689819, 0.8300857543945312,\n",
        "    0.8503507375717163, 0.8511301875114441, 0.8519095778465271, 0.8558067083358765, 0.8550272583961487,\n",
        "    0.8667186498641968, 0.8378799557685852, 0.8456742167472839, 0.8409976363182068, 0.8729540109634399,\n",
        "    0.8612626791000366, 0.8573655486106873, 0.8254091739654541, 0.8332034349441528, 0.8620420694351196,\n",
        "    0.8347622752189636, 0.8573655486106873, 0.7989088296890259, 0.8558067083358765, 0.8347622752189636\n",
        "]\n",
        "teste_normalidade(aprimorado)"
      ]
    },
    {
      "cell_type": "markdown",
      "metadata": {
        "id": "-GXPJZJkflLf"
      },
      "source": [
        "Função para verificar se os algoritmos são estatisticamentes \"iguais\" e exibir o bloxplot da distribuição de ambos\n",
        "\n",
        "    Caso eles sejam estatisticamente diferentes serão apontado qual deles é o melhor (possui maior acurácia)\n",
        "    Pelos testes feitos as amostras não seguem uma distribuição normal, dessa forma, será realizado o teste de Mann-Whitney"
      ]
    },
    {
      "cell_type": "code",
      "execution_count": 19,
      "metadata": {
        "id": "afqCOZcLflLg"
      },
      "outputs": [],
      "source": [
        "def comparar_algoritmos(amostra1, amostra2, alpha=0.05):\n",
        "    # Realize o teste de Mann-Whitney U\n",
        "    stat, p = stats.mannwhitneyu(amostra1, amostra2, alternative='two-sided')\n",
        "\n",
        "    # Plote um gráfico de caixa para cada amostra\n",
        "    plt.figure(figsize=(8, 6))\n",
        "    plt.boxplot([amostra1, amostra2], labels=['Algoritmo 1', 'Algoritmo 2'])\n",
        "    plt.title('Comparação de Algoritmos')\n",
        "    plt.ylabel('Acurácia')\n",
        "\n",
        "    # Calcule medidas resumo\n",
        "    media_amostra1 = round(sum(amostra1) / len(amostra1), 2)\n",
        "    media_amostra2 = round(sum(amostra2) / len(amostra2), 2)\n",
        "\n",
        "    # Adicione informações sobre a média no gráfico\n",
        "    plt.text(1, max(amostra1) - 0.01, f'Média: {media_amostra1}', ha='center')\n",
        "    plt.text(2, max(amostra2) - 0.01, f'Média: {media_amostra2}', ha='center')\n",
        "\n",
        "    # Adicione resultado do teste ao gráfico\n",
        "    if p < alpha:\n",
        "        if media_amostra1 > media_amostra2:\n",
        "            plt.text(1.5, max(max(amostra1), max(amostra2)) - 0.02, 'Algoritmo padrão é melhor', ha='center', color='green')\n",
        "        else:\n",
        "            plt.text(1.5, max(max(amostra1), max(amostra2)) - 0.02, 'Algoritmo aprimorado é melhor', ha='center', color='green')\n",
        "    else:\n",
        "        plt.text(1.5, max(max(amostra1), max(amostra2)) - 0.02, 'Não há diferença significativa', ha='center', color='red')\n",
        "\n",
        "    plt.show()\n",
        "\n",
        "    # Retorne o resultado do teste e qual algoritmo é considerado melhor ou se não há diferença significativa\n",
        "    if p < alpha:\n",
        "        if media_amostra1 > media_amostra2:\n",
        "            return \"Algoritmo padrão é melhor\"\n",
        "        else:\n",
        "            return \"Algoritmo aprimorado é melhor\"\n",
        "    else:\n",
        "        return \"Não há diferença significativa\""
      ]
    },
    {
      "cell_type": "markdown",
      "metadata": {
        "id": "X_pTNjTvflLg"
      },
      "source": [
        "## Resultado final"
      ]
    },
    {
      "cell_type": "code",
      "execution_count": 20,
      "metadata": {
        "id": "F9p4vMfXflLh",
        "outputId": "3803682c-dd2e-43df-fa28-dd7d68b7547a"
      },
      "outputs": [
        {
          "data": {
            "image/png": "[encoded data removed]",
            "text/plain": [
              "<Figure size 800x600 with 1 Axes>"
            ]
          },
          "metadata": {},
          "output_type": "display_data"
        },
        {
          "name": "stdout",
          "output_type": "stream",
          "text": [
            "Algoritmo aprimorado é melhor\n"
          ]
        }
      ],
      "source": [
        "resultado = comparar_algoritmos(padrao, aprimorado)\n",
        "print(resultado)"
      ]
    },
    {
      "cell_type": "markdown",
      "metadata": {
        "id": "CQLxpesRflLh"
      },
      "source": [
        "# Realizando teste de classificação aleatoriamente"
      ]
    },
    {
      "cell_type": "markdown",
      "metadata": {},
      "source": [
        "Escolher aleatoriamente uma imagem disponível no banco de dados, na pasta \"Base_de_Dados\""
      ]
    },
    {
      "cell_type": "code",
      "execution_count": 21,
      "metadata": {},
      "outputs": [],
      "source": [
        "import random\n",
        "\n",
        "def sortear_imagem():\n",
        "    data_dir = os.path.join(script_dir, 'Base_de_Dados')\n",
        "    classes = os.listdir(data_dir)\n",
        "    classe_aleatoria = random.choice(classes)\n",
        "    caminho_da_classe = os.path.join(data_dir, classe_aleatoria)\n",
        "    imagens_da_classe = os.listdir(caminho_da_classe)\n",
        "    imagem_aleatoria = random.choice(imagens_da_classe)\n",
        "    caminho_da_imagem_sorteada = os.path.join(caminho_da_classe, imagem_aleatoria)\n",
        "    \n",
        "    return caminho_da_imagem_sorteada\n",
        "    "
      ]
    },
    {
      "cell_type": "code",
      "execution_count": 23,
      "metadata": {},
      "outputs": [
        {
          "name": "stdout",
          "output_type": "stream",
          "text": [
            "1/1 [==============================] - 0s 251ms/step\n",
            "\n",
            "\n",
            "Resultado da classificação para a imagem: e:\\zzzzzanime\\Base_de_Dados\\Apenas_Um_Show\\frame_30470.jpg usando o modelo: cnn_padrao5.keras\n",
            "\n",
            "Classificação das 3 classes mais prováveis:\n",
            "1. Classe: Apenas_Um_Show, Probabilidade: 0.9998\n",
            "2. Classe: Kick_Buttowski, Probabilidade: 0.0001\n",
            "3. Classe: Bungo_Stray_Dogs, Probabilidade: 0.0000\n",
            "\n",
            "Probabilidades para todas as classes:\n",
            "Apenas_Um_Show, Probabilidade: 0.9998\n",
            "Bob_Esponja, Probabilidade: 0.0000\n",
            "Bungo_Stray_Dogs, Probabilidade: 0.0000\n",
            "Kick_Buttowski, Probabilidade: 0.0001\n",
            "Looney_Tunes, Probabilidade: 0.0000\n",
            "Madeline, Probabilidade: 0.0000\n",
            "Padrinhos_Magicos, Probabilidade: 0.0000\n",
            "Pica_Pau, Probabilidade: 0.0000\n",
            "1/1 [==============================] - 2s 2s/step\n",
            "\n",
            "\n",
            "Resultado da classificação para a imagem: e:\\zzzzzanime\\Base_de_Dados\\Apenas_Um_Show\\frame_30470.jpg usando o modelo: mudando_camadas5.keras\n",
            "\n",
            "Classificação das 3 classes mais prováveis:\n",
            "1. Classe: Apenas_Um_Show, Probabilidade: 0.9589\n",
            "2. Classe: Bungo_Stray_Dogs, Probabilidade: 0.0190\n",
            "3. Classe: Pica_Pau, Probabilidade: 0.0131\n",
            "\n",
            "Probabilidades para todas as classes:\n",
            "Apenas_Um_Show, Probabilidade: 0.9589\n",
            "Bob_Esponja, Probabilidade: 0.0000\n",
            "Bungo_Stray_Dogs, Probabilidade: 0.0190\n",
            "Kick_Buttowski, Probabilidade: 0.0042\n",
            "Looney_Tunes, Probabilidade: 0.0038\n",
            "Madeline, Probabilidade: 0.0008\n",
            "Padrinhos_Magicos, Probabilidade: 0.0002\n",
            "Pica_Pau, Probabilidade: 0.0131\n"
          ]
        }
      ],
      "source": [
        "imagem_sorteada = sortear_imagem()\n",
        "\n",
        "classe_prevista_padrao = classificar_imagem(imagem_sorteada, \"cnn_padrao5.keras\")\n",
        "classe_prevista_aprimorado = classificar_imagem(imagem_sorteada, \"mudando_camadas5.keras\")\n"
      ]
    }
  ],
  "metadata": {
    "colab": {
      "provenance": []
    },
    "kernelspec": {
      "display_name": "base",
      "language": "python",
      "name": "python3"
    },
    "language_info": {
      "codemirror_mode": {
        "name": "ipython",
        "version": 3
      },
      "file_extension": ".py",
      "mimetype": "text/x-python",
      "name": "python",
      "nbconvert_exporter": "python",
      "pygments_lexer": "ipython3",
      "version": "3.10.9"
    },
    "orig_nbformat": 4
  },
  "nbformat": 4,
  "nbformat_minor": 0
}
